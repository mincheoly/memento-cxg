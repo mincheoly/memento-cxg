{
 "cells": [
  {
   "cell_type": "markdown",
   "id": "b24cf817-2838-47e4-87ce-53d6292130ce",
   "metadata": {},
   "source": [
    "# Generating summary statistics for each group of cells and gene\n",
    "\n",
    "This notebook demonstrates the use of memento for generating statistics for each group of cells x genes."
   ]
  },
  {
   "cell_type": "code",
   "execution_count": 36,
   "id": "91dafc43-bc06-4174-8626-a7398726c741",
   "metadata": {},
   "outputs": [
    {
     "ename": "ImportError",
     "evalue": "attempted relative import with no known parent package",
     "output_type": "error",
     "traceback": [
      "\u001b[0;31m---------------------------------------------------------------------------\u001b[0m",
      "\u001b[0;31mImportError\u001b[0m                               Traceback (most recent call last)",
      "Cell \u001b[0;32mIn[36], line 8\u001b[0m\n\u001b[1;32m      6\u001b[0m \u001b[38;5;28;01mimport\u001b[39;00m \u001b[38;5;21;01mstring\u001b[39;00m\n\u001b[1;32m      7\u001b[0m \u001b[38;5;28;01mimport\u001b[39;00m \u001b[38;5;21;01mrandom\u001b[39;00m\n\u001b[0;32m----> 8\u001b[0m \u001b[38;5;28;01mfrom\u001b[39;00m \u001b[38;5;21;01m.\u001b[39;00m\u001b[38;5;21;01m.\u001b[39;00m\u001b[38;5;21;01mmemento\u001b[39;00m\u001b[38;5;21;01m.\u001b[39;00m\u001b[38;5;21;01mmemento\u001b[39;00m \u001b[38;5;28;01mimport\u001b[39;00m \u001b[38;5;241m*\u001b[39m\n",
      "\u001b[0;31mImportError\u001b[0m: attempted relative import with no known parent package"
     ]
    }
   ],
   "source": [
    "import scanpy as sc\n",
    "import scipy.stats as stats\n",
    "import scipy.sparse as sparse\n",
    "import pandas as pd\n",
    "import numpy as np\n",
    "import string\n",
    "import random"
   ]
  },
  {
   "cell_type": "markdown",
   "id": "5e409203-2e5b-468e-83a7-4fc8bf3ba594",
   "metadata": {},
   "source": [
    "### Generate dataset"
   ]
  },
  {
   "cell_type": "code",
   "execution_count": 17,
   "id": "22b6164b-3f96-482b-8c54-8c89e2cbe978",
   "metadata": {},
   "outputs": [],
   "source": [
    "mu = 1\n",
    "sigma = 5\n",
    "num_cells = 1000\n",
    "num_genes = 500"
   ]
  },
  {
   "cell_type": "code",
   "execution_count": 28,
   "id": "0940729e-b301-4cf3-9454-541b0456f3f1",
   "metadata": {},
   "outputs": [],
   "source": [
    "X = sparse.csr_matrix(stats.nbinom.rvs(n=mu**2/(sigma**2-mu), p = mu/sigma**2, size=(num_cells, num_genes)))\n",
    "obs = pd.DataFrame(\n",
    "    data= zip(\n",
    "        np.random.choice(['cell_A', 'cell_B'], size=num_cells),\n",
    "        np.random.choice(['study_A', 'study_B'], size=num_cells)),\n",
    "    index=[''.join(random.choices('AGCT', k=10)) for i in range(num_cells)],\n",
    "    columns= ['celltype', 'study'])\n",
    "var = pd.DataFrame(index=[''.join(random.choices(string.ascii_uppercase, k=5)) for i in range(num_genes)])\n",
    "\n",
    "adata = sc.AnnData(X=X, obs=obs, var=var, dtype=X.dtype)"
   ]
  },
  {
   "cell_type": "markdown",
   "id": "8ff01f15-7876-48b1-95c8-26560d3660bf",
   "metadata": {},
   "source": [
    "### Some preprocessing \n",
    "\n",
    "How would this work in the cellxgene context?\n",
    "\n",
    "By default, memento uses the least variable genes as size factors but it's flexible to different normalizations.\n",
    "Here we just use total count normalization."
   ]
  },
  {
   "cell_type": "code",
   "execution_count": 33,
   "id": "5af04e35-03a7-44f0-bd45-696943a99ef5",
   "metadata": {},
   "outputs": [],
   "source": [
    "adata.obs['size_factor'] = adata.X.sum(axis=1).A1"
   ]
  },
  {
   "cell_type": "markdown",
   "id": "cf59807d-97d3-487e-a749-08d11b5d2bf5",
   "metadata": {},
   "source": [
    "### Generate summary statistics"
   ]
  },
  {
   "cell_type": "code",
   "execution_count": 31,
   "id": "e2efbdb2-5235-41c7-a805-14fca6d7bc84",
   "metadata": {},
   "outputs": [],
   "source": [
    "studies = ['study_A', 'study_B']\n",
    "celltypes = ['cell_A', 'cell_B']\n",
    "genes = adata.var.index.tolist()"
   ]
  },
  {
   "cell_type": "code",
   "execution_count": 35,
   "id": "25b5fe4d-d08c-49d0-bac5-46bfc2fa780b",
   "metadata": {},
   "outputs": [
    {
     "name": "stdout",
     "output_type": "stream",
     "text": [
      "View of AnnData object with n_obs × n_vars = 244 × 500\n",
      "    obs: 'celltype', 'study', 'size_factor'\n",
      "View of AnnData object with n_obs × n_vars = 259 × 500\n",
      "    obs: 'celltype', 'study', 'size_factor'\n",
      "View of AnnData object with n_obs × n_vars = 246 × 500\n",
      "    obs: 'celltype', 'study', 'size_factor'\n",
      "View of AnnData object with n_obs × n_vars = 251 × 500\n",
      "    obs: 'celltype', 'study', 'size_factor'\n"
     ]
    }
   ],
   "source": [
    "for ct in celltypes:\n",
    "    \n",
    "    for study in studies:\n",
    "        \n",
    "        subset = adata[(adata.obs['celltype'] == ct) & (adata.obs['study'] == study)]\n",
    "        subset.X = subset.X.tocsc() # makes column indexing a bit more efficient\n",
    "\n",
    "        for gene in genes:\n",
    "            \n",
    "            "
   ]
  },
  {
   "cell_type": "code",
   "execution_count": null,
   "id": "f26b3904-9712-48c4-80ac-855209b11e36",
   "metadata": {},
   "outputs": [],
   "source": []
  }
 ],
 "metadata": {
  "kernelspec": {
   "display_name": "Python 3 (ipykernel)",
   "language": "python",
   "name": "python3"
  },
  "language_info": {
   "codemirror_mode": {
    "name": "ipython",
    "version": 3
   },
   "file_extension": ".py",
   "mimetype": "text/x-python",
   "name": "python",
   "nbconvert_exporter": "python",
   "pygments_lexer": "ipython3",
   "version": "3.8.16"
  }
 },
 "nbformat": 4,
 "nbformat_minor": 5
}
