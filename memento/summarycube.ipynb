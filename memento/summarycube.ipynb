{
 "cells": [
  {
   "cell_type": "markdown",
   "id": "b24cf817-2838-47e4-87ce-53d6292130ce",
   "metadata": {},
   "source": [
    "# Generating summary statistics for each group of cells and gene\n",
    "\n",
    "This notebook demonstrates the use of memento for generating statistics for each group of cells x genes."
   ]
  },
  {
   "cell_type": "code",
   "execution_count": 6,
   "id": "99949752-914d-416f-bd82-1eeab2f21af6",
   "metadata": {},
   "outputs": [],
   "source": [
    "%load_ext autoreload"
   ]
  },
  {
   "cell_type": "code",
   "execution_count": 7,
   "id": "df1764fe-13fd-459d-b8d0-3a753b75b3de",
   "metadata": {},
   "outputs": [],
   "source": [
    "%autoreload 2"
   ]
  },
  {
   "cell_type": "code",
   "execution_count": 21,
   "id": "91dafc43-bc06-4174-8626-a7398726c741",
   "metadata": {},
   "outputs": [],
   "source": [
    "import scanpy as sc\n",
    "import scipy.stats as stats\n",
    "import scipy.sparse as sparse\n",
    "import pandas as pd\n",
    "import numpy as np\n",
    "import string\n",
    "import random\n",
    "import estimators as memento"
   ]
  },
  {
   "cell_type": "markdown",
   "id": "5e409203-2e5b-468e-83a7-4fc8bf3ba594",
   "metadata": {},
   "source": [
    "### Generate dataset"
   ]
  },
  {
   "cell_type": "code",
   "execution_count": 92,
   "id": "22b6164b-3f96-482b-8c54-8c89e2cbe978",
   "metadata": {},
   "outputs": [],
   "source": [
    "mu = 1\n",
    "sigma = 5\n",
    "num_cells = 1000\n",
    "num_genes = 100"
   ]
  },
  {
   "cell_type": "code",
   "execution_count": 93,
   "id": "0940729e-b301-4cf3-9454-541b0456f3f1",
   "metadata": {},
   "outputs": [],
   "source": [
    "X = sparse.csr_matrix(stats.nbinom.rvs(n=mu**2/(sigma**2-mu), p = mu/sigma**2, size=(num_cells, num_genes)))\n",
    "obs = pd.DataFrame(\n",
    "    data= zip(\n",
    "        np.random.choice(['cell_A', 'cell_B'], size=num_cells),\n",
    "        np.random.choice(['study_A', 'study_B'], size=num_cells)),\n",
    "    index=[''.join(random.choices('AGCT', k=15)) for i in range(num_cells)],\n",
    "    columns= ['celltype', 'study'])\n",
    "var = pd.DataFrame(index=[''.join(random.choices(string.ascii_uppercase, k=5)) for i in range(num_genes)])\n",
    "\n",
    "adata = sc.AnnData(X=X, obs=obs, var=var, dtype=X.dtype)"
   ]
  },
  {
   "cell_type": "markdown",
   "id": "8ff01f15-7876-48b1-95c8-26560d3660bf",
   "metadata": {},
   "source": [
    "### Some preprocessing \n",
    "\n",
    "How would this work in the cellxgene context?\n",
    "\n",
    "By default, memento uses the least variable genes as size factors but it's flexible to different normalizations.\n",
    "Here we just use total count normalization."
   ]
  },
  {
   "cell_type": "code",
   "execution_count": 94,
   "id": "5af04e35-03a7-44f0-bd45-696943a99ef5",
   "metadata": {},
   "outputs": [],
   "source": [
    "adata.obs['size_factor'] = adata.X.sum(axis=1).A1\n",
    "adata.obs['approx_size_factor'] = memento.bin_size_factor(adata.obs['size_factor'].values)"
   ]
  },
  {
   "cell_type": "code",
   "execution_count": 95,
   "id": "0bb0cb1e-57fa-4512-83ab-1a9b86bd1e5a",
   "metadata": {},
   "outputs": [
    {
     "data": {
      "text/html": [
       "<div>\n",
       "<style scoped>\n",
       "    .dataframe tbody tr th:only-of-type {\n",
       "        vertical-align: middle;\n",
       "    }\n",
       "\n",
       "    .dataframe tbody tr th {\n",
       "        vertical-align: top;\n",
       "    }\n",
       "\n",
       "    .dataframe thead th {\n",
       "        text-align: right;\n",
       "    }\n",
       "</style>\n",
       "<table border=\"1\" class=\"dataframe\">\n",
       "  <thead>\n",
       "    <tr style=\"text-align: right;\">\n",
       "      <th></th>\n",
       "      <th>celltype</th>\n",
       "      <th>study</th>\n",
       "      <th>size_factor</th>\n",
       "      <th>approx_size_factor</th>\n",
       "    </tr>\n",
       "  </thead>\n",
       "  <tbody>\n",
       "    <tr>\n",
       "      <th>ATTGGGTAGGATTGT</th>\n",
       "      <td>cell_A</td>\n",
       "      <td>study_B</td>\n",
       "      <td>180</td>\n",
       "      <td>182.240000</td>\n",
       "    </tr>\n",
       "    <tr>\n",
       "      <th>AATAAGCTTATCGCG</th>\n",
       "      <td>cell_A</td>\n",
       "      <td>study_B</td>\n",
       "      <td>176</td>\n",
       "      <td>170.571429</td>\n",
       "    </tr>\n",
       "    <tr>\n",
       "      <th>GACCATGGACGTCCC</th>\n",
       "      <td>cell_A</td>\n",
       "      <td>study_A</td>\n",
       "      <td>60</td>\n",
       "      <td>60.008929</td>\n",
       "    </tr>\n",
       "    <tr>\n",
       "      <th>CTAAACAGTACGCTG</th>\n",
       "      <td>cell_A</td>\n",
       "      <td>study_A</td>\n",
       "      <td>38</td>\n",
       "      <td>34.872340</td>\n",
       "    </tr>\n",
       "    <tr>\n",
       "      <th>CCACATGTACACCTT</th>\n",
       "      <td>cell_B</td>\n",
       "      <td>study_B</td>\n",
       "      <td>85</td>\n",
       "      <td>84.083333</td>\n",
       "    </tr>\n",
       "    <tr>\n",
       "      <th>TTACTTAACGTTTCA</th>\n",
       "      <td>cell_B</td>\n",
       "      <td>study_B</td>\n",
       "      <td>92</td>\n",
       "      <td>96.293103</td>\n",
       "    </tr>\n",
       "    <tr>\n",
       "      <th>GCTGGCAATCAGATT</th>\n",
       "      <td>cell_B</td>\n",
       "      <td>study_B</td>\n",
       "      <td>110</td>\n",
       "      <td>108.329412</td>\n",
       "    </tr>\n",
       "    <tr>\n",
       "      <th>ATCTCCCTGAGTCCT</th>\n",
       "      <td>cell_B</td>\n",
       "      <td>study_B</td>\n",
       "      <td>71</td>\n",
       "      <td>71.656250</td>\n",
       "    </tr>\n",
       "    <tr>\n",
       "      <th>TCTTTCTCCATGTCC</th>\n",
       "      <td>cell_A</td>\n",
       "      <td>study_A</td>\n",
       "      <td>100</td>\n",
       "      <td>96.293103</td>\n",
       "    </tr>\n",
       "    <tr>\n",
       "      <th>AACAGAGGAGTGAGG</th>\n",
       "      <td>cell_B</td>\n",
       "      <td>study_B</td>\n",
       "      <td>147</td>\n",
       "      <td>145.840909</td>\n",
       "    </tr>\n",
       "  </tbody>\n",
       "</table>\n",
       "</div>"
      ],
      "text/plain": [
       "                celltype    study  size_factor  approx_size_factor\n",
       "ATTGGGTAGGATTGT   cell_A  study_B          180          182.240000\n",
       "AATAAGCTTATCGCG   cell_A  study_B          176          170.571429\n",
       "GACCATGGACGTCCC   cell_A  study_A           60           60.008929\n",
       "CTAAACAGTACGCTG   cell_A  study_A           38           34.872340\n",
       "CCACATGTACACCTT   cell_B  study_B           85           84.083333\n",
       "TTACTTAACGTTTCA   cell_B  study_B           92           96.293103\n",
       "GCTGGCAATCAGATT   cell_B  study_B          110          108.329412\n",
       "ATCTCCCTGAGTCCT   cell_B  study_B           71           71.656250\n",
       "TCTTTCTCCATGTCC   cell_A  study_A          100           96.293103\n",
       "AACAGAGGAGTGAGG   cell_B  study_B          147          145.840909"
      ]
     },
     "execution_count": 95,
     "metadata": {},
     "output_type": "execute_result"
    }
   ],
   "source": [
    "adata.obs.head(10)"
   ]
  },
  {
   "cell_type": "markdown",
   "id": "cf59807d-97d3-487e-a749-08d11b5d2bf5",
   "metadata": {},
   "source": [
    "### Generate summary statistics"
   ]
  },
  {
   "cell_type": "code",
   "execution_count": 96,
   "id": "e2efbdb2-5235-41c7-a805-14fca6d7bc84",
   "metadata": {},
   "outputs": [],
   "source": [
    "studies = ['study_A', 'study_B']\n",
    "celltypes = ['cell_A', 'cell_B']\n",
    "genes = adata.var.index.tolist()\n",
    "q = 0.1 # RNA capture efficiency depending on technology"
   ]
  },
  {
   "cell_type": "code",
   "execution_count": 97,
   "id": "25b5fe4d-d08c-49d0-bac5-46bfc2fa780b",
   "metadata": {},
   "outputs": [],
   "source": [
    "# This entire thing can be parallelized to however degree\n",
    "summary_list = []\n",
    "for ct in celltypes:\n",
    "    \n",
    "    for study in studies:\n",
    "        \n",
    "        subset = adata[(adata.obs['celltype'] == ct) & (adata.obs['study'] == study)]\n",
    "        subset.X = subset.X.tocsc() # makes column indexing a bit more efficient\n",
    "        size_factor = subset.obs['approx_size_factor'].values\n",
    "        \n",
    "        for idx, gene in enumerate(genes):\n",
    "            \n",
    "            X = subset.X[:, idx]\n",
    "            \n",
    "            mean = memento.compute_mean(X, q, size_factor)\n",
    "            sem = memento.compute_sem(X, q, size_factor)\n",
    "            _, variance = memento.compute_variance(X, q, size_factor)\n",
    "            _, _, sev, selv = memento.compute_sev(X, q, size_factor, num_boot=10000)\n",
    "            \n",
    "            summary_list.append(\n",
    "                (\n",
    "                    ct,\n",
    "                    study,\n",
    "                    gene,\n",
    "                    mean,\n",
    "                    sem, \n",
    "                    variance,\n",
    "                    sev, \n",
    "                    selv,\n",
    "                )\n",
    "            )\n",
    "summary = pd.DataFrame(\n",
    "    data=summary_list,\n",
    "    columns=['celltype', 'study', 'gene', 'mean', 'SEM', 'variance', 'SEV', 'SELV'])"
   ]
  }
 ],
 "metadata": {
  "kernelspec": {
   "display_name": "Python 3 (ipykernel)",
   "language": "python",
   "name": "python3"
  },
  "language_info": {
   "codemirror_mode": {
    "name": "ipython",
    "version": 3
   },
   "file_extension": ".py",
   "mimetype": "text/x-python",
   "name": "python",
   "nbconvert_exporter": "python",
   "pygments_lexer": "ipython3",
   "version": "3.8.16"
  }
 },
 "nbformat": 4,
 "nbformat_minor": 5
}
