{
 "cells": [
  {
   "cell_type": "markdown",
   "id": "b24cf817-2838-47e4-87ce-53d6292130ce",
   "metadata": {},
   "source": [
    "# Generating summary statistics for each group of cells and gene\n",
    "\n",
    "This notebook demonstrates the use of memento for generating statistics for each group of cells x genes."
   ]
  },
  {
   "cell_type": "code",
   "execution_count": 1,
   "id": "99949752-914d-416f-bd82-1eeab2f21af6",
   "metadata": {},
   "outputs": [],
   "source": [
    "%load_ext autoreload"
   ]
  },
  {
   "cell_type": "code",
   "execution_count": 2,
   "id": "df1764fe-13fd-459d-b8d0-3a753b75b3de",
   "metadata": {},
   "outputs": [],
   "source": [
    "%autoreload 2"
   ]
  },
  {
   "cell_type": "code",
   "execution_count": 3,
   "id": "91dafc43-bc06-4174-8626-a7398726c741",
   "metadata": {},
   "outputs": [],
   "source": [
    "import scanpy as sc\n",
    "import scipy.stats as stats\n",
    "import scipy.sparse as sparse\n",
    "import pandas as pd\n",
    "import numpy as np\n",
    "import string\n",
    "import random\n",
    "import estimators as memento"
   ]
  },
  {
   "cell_type": "markdown",
   "id": "5e409203-2e5b-468e-83a7-4fc8bf3ba594",
   "metadata": {},
   "source": [
    "### Generate dataset"
   ]
  },
  {
   "cell_type": "code",
   "execution_count": 4,
   "id": "22b6164b-3f96-482b-8c54-8c89e2cbe978",
   "metadata": {},
   "outputs": [],
   "source": [
    "mu = 1\n",
    "sigma = 5\n",
    "num_cells = 1000\n",
    "num_genes = 100"
   ]
  },
  {
   "cell_type": "code",
   "execution_count": 5,
   "id": "0940729e-b301-4cf3-9454-541b0456f3f1",
   "metadata": {},
   "outputs": [],
   "source": [
    "X = sparse.csr_matrix(stats.nbinom.rvs(n=mu**2/(sigma**2-mu), p = mu/sigma**2, size=(num_cells, num_genes)))\n",
    "obs = pd.DataFrame(\n",
    "    data= zip(\n",
    "        np.random.choice(['cell_A', 'cell_B'], size=num_cells),\n",
    "        np.random.choice(['study_A', 'study_B'], size=num_cells)),\n",
    "    index=[''.join(random.choices('AGCT', k=15)) for i in range(num_cells)],\n",
    "    columns= ['celltype', 'study'])\n",
    "var = pd.DataFrame(index=[''.join(random.choices(string.ascii_uppercase, k=5)) for i in range(num_genes)])\n",
    "\n",
    "adata = sc.AnnData(X=X, obs=obs, var=var, dtype=X.dtype)"
   ]
  },
  {
   "cell_type": "markdown",
   "id": "8ff01f15-7876-48b1-95c8-26560d3660bf",
   "metadata": {},
   "source": [
    "### Some preprocessing \n",
    "\n",
    "How would this work in the cellxgene context?\n",
    "\n",
    "By default, memento uses the least variable genes as size factors but it's flexible to different normalizations.\n",
    "Here we just use total count normalization."
   ]
  },
  {
   "cell_type": "code",
   "execution_count": 6,
   "id": "5af04e35-03a7-44f0-bd45-696943a99ef5",
   "metadata": {},
   "outputs": [],
   "source": [
    "adata.obs['size_factor'] = adata.X.sum(axis=1).A1\n",
    "adata.obs['approx_size_factor'] = memento.bin_size_factor(adata.obs['size_factor'].values)"
   ]
  },
  {
   "cell_type": "code",
   "execution_count": 7,
   "id": "0bb0cb1e-57fa-4512-83ab-1a9b86bd1e5a",
   "metadata": {},
   "outputs": [
    {
     "data": {
      "text/plain": "                celltype    study  size_factor  approx_size_factor\nCGATGGATCTCTCAT   cell_A  study_B          185          189.000000\nACTGAGCGGTAACAG   cell_B  study_A          106          106.684932\nCGCCAGTGCTAACAT   cell_A  study_A           33           34.421053\nGTTTAATATAGTTAA   cell_B  study_A          160          158.962963\nCACCTTTGGGCATTA   cell_B  study_A          157          158.962963\nCGGGCAGCAATTTTG   cell_A  study_B           29           25.600000\nTCGTGCCTATTATTT   cell_B  study_A           58           55.518987\nGGAGGGACAGGAACC   cell_B  study_B           50           45.283784\nGTAGGAATTCGATTA   cell_A  study_A           16           15.100000\nAGACTAGGCAACGAT   cell_B  study_B          162          158.962963",
      "text/html": "<div>\n<style scoped>\n    .dataframe tbody tr th:only-of-type {\n        vertical-align: middle;\n    }\n\n    .dataframe tbody tr th {\n        vertical-align: top;\n    }\n\n    .dataframe thead th {\n        text-align: right;\n    }\n</style>\n<table border=\"1\" class=\"dataframe\">\n  <thead>\n    <tr style=\"text-align: right;\">\n      <th></th>\n      <th>celltype</th>\n      <th>study</th>\n      <th>size_factor</th>\n      <th>approx_size_factor</th>\n    </tr>\n  </thead>\n  <tbody>\n    <tr>\n      <th>CGATGGATCTCTCAT</th>\n      <td>cell_A</td>\n      <td>study_B</td>\n      <td>185</td>\n      <td>189.000000</td>\n    </tr>\n    <tr>\n      <th>ACTGAGCGGTAACAG</th>\n      <td>cell_B</td>\n      <td>study_A</td>\n      <td>106</td>\n      <td>106.684932</td>\n    </tr>\n    <tr>\n      <th>CGCCAGTGCTAACAT</th>\n      <td>cell_A</td>\n      <td>study_A</td>\n      <td>33</td>\n      <td>34.421053</td>\n    </tr>\n    <tr>\n      <th>GTTTAATATAGTTAA</th>\n      <td>cell_B</td>\n      <td>study_A</td>\n      <td>160</td>\n      <td>158.962963</td>\n    </tr>\n    <tr>\n      <th>CACCTTTGGGCATTA</th>\n      <td>cell_B</td>\n      <td>study_A</td>\n      <td>157</td>\n      <td>158.962963</td>\n    </tr>\n    <tr>\n      <th>CGGGCAGCAATTTTG</th>\n      <td>cell_A</td>\n      <td>study_B</td>\n      <td>29</td>\n      <td>25.600000</td>\n    </tr>\n    <tr>\n      <th>TCGTGCCTATTATTT</th>\n      <td>cell_B</td>\n      <td>study_A</td>\n      <td>58</td>\n      <td>55.518987</td>\n    </tr>\n    <tr>\n      <th>GGAGGGACAGGAACC</th>\n      <td>cell_B</td>\n      <td>study_B</td>\n      <td>50</td>\n      <td>45.283784</td>\n    </tr>\n    <tr>\n      <th>GTAGGAATTCGATTA</th>\n      <td>cell_A</td>\n      <td>study_A</td>\n      <td>16</td>\n      <td>15.100000</td>\n    </tr>\n    <tr>\n      <th>AGACTAGGCAACGAT</th>\n      <td>cell_B</td>\n      <td>study_B</td>\n      <td>162</td>\n      <td>158.962963</td>\n    </tr>\n  </tbody>\n</table>\n</div>"
     },
     "execution_count": 7,
     "metadata": {},
     "output_type": "execute_result"
    }
   ],
   "source": [
    "adata.obs.head(10)"
   ]
  },
  {
   "cell_type": "markdown",
   "id": "cf59807d-97d3-487e-a749-08d11b5d2bf5",
   "metadata": {},
   "source": [
    "### Generate summary statistics"
   ]
  },
  {
   "cell_type": "code",
   "execution_count": 8,
   "id": "e2efbdb2-5235-41c7-a805-14fca6d7bc84",
   "metadata": {},
   "outputs": [],
   "source": [
    "studies = ['study_A', 'study_B']\n",
    "celltypes = ['cell_A', 'cell_B']\n",
    "genes = adata.var.index.tolist()\n",
    "q = 0.1 # RNA capture efficiency depending on technology"
   ]
  },
  {
   "cell_type": "code",
   "execution_count": 9,
   "id": "25b5fe4d-d08c-49d0-bac5-46bfc2fa780b",
   "metadata": {},
   "outputs": [],
   "source": [
    "# This entire thing can be parallelized to however degree\n",
    "summary_list = []\n",
    "for ct in celltypes:\n",
    "    \n",
    "    for study in studies:\n",
    "        \n",
    "        subset = adata[(adata.obs['celltype'] == ct) & (adata.obs['study'] == study)]\n",
    "        subset.X = subset.X.tocsc() # makes column indexing a bit more efficient\n",
    "        size_factor = subset.obs['approx_size_factor'].values\n",
    "        \n",
    "        for idx, gene in enumerate(genes):\n",
    "            \n",
    "            X = subset.X[:, idx]\n",
    "            \n",
    "            mean = memento.compute_mean(X, q, size_factor)\n",
    "            sem = memento.compute_sem(X, q, size_factor)\n",
    "            _, variance = memento.compute_variance(X, q, size_factor)\n",
    "            _, _, sev, selv = memento.compute_sev(X, q, size_factor, num_boot=10000)\n",
    "            \n",
    "            summary_list.append(\n",
    "                (\n",
    "                    ct,\n",
    "                    study,\n",
    "                    gene,\n",
    "                    mean,\n",
    "                    sem, \n",
    "                    variance,\n",
    "                    sev, \n",
    "                    selv,\n",
    "                )\n",
    "            )\n",
    "summary = pd.DataFrame(\n",
    "    data=summary_list,\n",
    "    columns=['celltype', 'study', 'gene', 'mean', 'SEM', 'variance', 'SEV', 'SELV'])"
   ]
  },
  {
   "cell_type": "code",
   "execution_count": 11,
   "id": "d53bcd25-aa20-4d27-8513-cd507623d7e6",
   "metadata": {},
   "outputs": [
    {
     "data": {
      "text/plain": "    celltype    study   gene      mean       SEM  variance       SEV      SELV\n0     cell_A  study_A  AAWNM  0.011078  0.002662  0.001680  0.000662  0.453293\n1     cell_A  study_A  PNFBR  0.007578  0.001581  0.000593  0.000215  0.410049\n2     cell_A  study_A  HBQPB  0.009016  0.001985  0.000934  0.000475  0.557987\n3     cell_A  study_A  KELFA  0.004870  0.001663  0.000655  0.000335  0.679576\n4     cell_A  study_A  ZFPJZ  0.010668  0.002645  0.001658  0.000642  0.432235\n..       ...      ...    ...       ...       ...       ...       ...       ...\n395   cell_B  study_B  MLIAS  0.007314  0.001842  0.000872  0.000325  0.411151\n396   cell_B  study_B  XGWUD  0.002556  0.000765  0.000150  0.000066  0.510557\n397   cell_B  study_B  DYJPY  0.004594  0.001476  0.000560  0.000300  0.688119\n398   cell_B  study_B  RRAYX  0.007144  0.001963  0.000991  0.000447  0.525260\n399   cell_B  study_B  KUEBX  0.010723  0.002265  0.001319  0.000411  0.336030\n\n[400 rows x 8 columns]",
      "text/html": "<div>\n<style scoped>\n    .dataframe tbody tr th:only-of-type {\n        vertical-align: middle;\n    }\n\n    .dataframe tbody tr th {\n        vertical-align: top;\n    }\n\n    .dataframe thead th {\n        text-align: right;\n    }\n</style>\n<table border=\"1\" class=\"dataframe\">\n  <thead>\n    <tr style=\"text-align: right;\">\n      <th></th>\n      <th>celltype</th>\n      <th>study</th>\n      <th>gene</th>\n      <th>mean</th>\n      <th>SEM</th>\n      <th>variance</th>\n      <th>SEV</th>\n      <th>SELV</th>\n    </tr>\n  </thead>\n  <tbody>\n    <tr>\n      <th>0</th>\n      <td>cell_A</td>\n      <td>study_A</td>\n      <td>AAWNM</td>\n      <td>0.011078</td>\n      <td>0.002662</td>\n      <td>0.001680</td>\n      <td>0.000662</td>\n      <td>0.453293</td>\n    </tr>\n    <tr>\n      <th>1</th>\n      <td>cell_A</td>\n      <td>study_A</td>\n      <td>PNFBR</td>\n      <td>0.007578</td>\n      <td>0.001581</td>\n      <td>0.000593</td>\n      <td>0.000215</td>\n      <td>0.410049</td>\n    </tr>\n    <tr>\n      <th>2</th>\n      <td>cell_A</td>\n      <td>study_A</td>\n      <td>HBQPB</td>\n      <td>0.009016</td>\n      <td>0.001985</td>\n      <td>0.000934</td>\n      <td>0.000475</td>\n      <td>0.557987</td>\n    </tr>\n    <tr>\n      <th>3</th>\n      <td>cell_A</td>\n      <td>study_A</td>\n      <td>KELFA</td>\n      <td>0.004870</td>\n      <td>0.001663</td>\n      <td>0.000655</td>\n      <td>0.000335</td>\n      <td>0.679576</td>\n    </tr>\n    <tr>\n      <th>4</th>\n      <td>cell_A</td>\n      <td>study_A</td>\n      <td>ZFPJZ</td>\n      <td>0.010668</td>\n      <td>0.002645</td>\n      <td>0.001658</td>\n      <td>0.000642</td>\n      <td>0.432235</td>\n    </tr>\n    <tr>\n      <th>...</th>\n      <td>...</td>\n      <td>...</td>\n      <td>...</td>\n      <td>...</td>\n      <td>...</td>\n      <td>...</td>\n      <td>...</td>\n      <td>...</td>\n    </tr>\n    <tr>\n      <th>395</th>\n      <td>cell_B</td>\n      <td>study_B</td>\n      <td>MLIAS</td>\n      <td>0.007314</td>\n      <td>0.001842</td>\n      <td>0.000872</td>\n      <td>0.000325</td>\n      <td>0.411151</td>\n    </tr>\n    <tr>\n      <th>396</th>\n      <td>cell_B</td>\n      <td>study_B</td>\n      <td>XGWUD</td>\n      <td>0.002556</td>\n      <td>0.000765</td>\n      <td>0.000150</td>\n      <td>0.000066</td>\n      <td>0.510557</td>\n    </tr>\n    <tr>\n      <th>397</th>\n      <td>cell_B</td>\n      <td>study_B</td>\n      <td>DYJPY</td>\n      <td>0.004594</td>\n      <td>0.001476</td>\n      <td>0.000560</td>\n      <td>0.000300</td>\n      <td>0.688119</td>\n    </tr>\n    <tr>\n      <th>398</th>\n      <td>cell_B</td>\n      <td>study_B</td>\n      <td>RRAYX</td>\n      <td>0.007144</td>\n      <td>0.001963</td>\n      <td>0.000991</td>\n      <td>0.000447</td>\n      <td>0.525260</td>\n    </tr>\n    <tr>\n      <th>399</th>\n      <td>cell_B</td>\n      <td>study_B</td>\n      <td>KUEBX</td>\n      <td>0.010723</td>\n      <td>0.002265</td>\n      <td>0.001319</td>\n      <td>0.000411</td>\n      <td>0.336030</td>\n    </tr>\n  </tbody>\n</table>\n<p>400 rows × 8 columns</p>\n</div>"
     },
     "execution_count": 11,
     "metadata": {},
     "output_type": "execute_result"
    }
   ],
   "source": [
    "summary"
   ]
  },
  {
   "cell_type": "code",
   "execution_count": 21,
   "outputs": [],
   "source": [
    "import json\n",
    "\n",
    "adata.write_h5ad('sample_input.h5ad')\n",
    "\n",
    "with open('sample_result.json', 'w') as f:\n",
    "    f.write(summary.to_json())"
   ],
   "metadata": {
    "collapsed": false
   }
  }
 ],
 "metadata": {
  "kernelspec": {
   "display_name": "Python 3 (ipykernel)",
   "language": "python",
   "name": "python3"
  },
  "language_info": {
   "codemirror_mode": {
    "name": "ipython",
    "version": 3
   },
   "file_extension": ".py",
   "mimetype": "text/x-python",
   "name": "python",
   "nbconvert_exporter": "python",
   "pygments_lexer": "ipython3",
   "version": "3.8.16"
  }
 },
 "nbformat": 4,
 "nbformat_minor": 5
}
