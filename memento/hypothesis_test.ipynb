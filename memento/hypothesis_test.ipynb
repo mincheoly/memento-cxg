{
 "cells": [
  {
   "cell_type": "markdown",
   "id": "ed12a14f-77f4-4756-a6d4-d43860cea079",
   "metadata": {},
   "source": [
    "# Running actual hypothesis test with pre-computed standard errors"
   ]
  },
  {
   "cell_type": "code",
   "execution_count": 80,
   "id": "9597328e-2717-411a-b7b0-cf500caa62ed",
   "metadata": {},
   "outputs": [],
   "source": [
    "import scanpy as sc\n",
    "import scipy.stats as stats\n",
    "import scipy.sparse as sparse\n",
    "import pandas as pd\n",
    "import numpy as np\n",
    "import string\n",
    "import random\n",
    "# import estimators as memento\n",
    "\n",
    "import seaborn as sns\n",
    "import tiledb\n",
    "import statsmodels.api as sm\n",
    "from pymare import estimators, core\n"
   ]
  },
  {
   "cell_type": "markdown",
   "id": "28f93b7c-d990-41d8-b52c-4a82165c9b42",
   "metadata": {},
   "source": [
    "### Read estimators"
   ]
  },
  {
   "cell_type": "code",
   "execution_count": 119,
   "id": "470ae7e7-9d2b-4afc-a0ea-e29194d29806",
   "metadata": {},
   "outputs": [],
   "source": [
    "cube_path = '../../estimators_cube'"
   ]
  },
  {
   "cell_type": "code",
   "execution_count": 120,
   "id": "1fad0247-8634-4ee6-9d83-17e8504b4344",
   "metadata": {},
   "outputs": [],
   "source": [
    "# seems to be a bug in the cube generation code that names columns incorrectly\n",
    "estimators = tiledb.open(cube_path).df[:].rename(columns={'feature_id':'cell_type', 'cell_type':'dataset_id', 'dataset_id':'feature_id'})"
   ]
  },
  {
   "cell_type": "code",
   "execution_count": 121,
   "id": "637eff37-2f5c-4be5-979d-680aeb3440bb",
   "metadata": {},
   "outputs": [
    {
     "data": {
      "text/html": [
       "<div>\n",
       "<style scoped>\n",
       "    .dataframe tbody tr th:only-of-type {\n",
       "        vertical-align: middle;\n",
       "    }\n",
       "\n",
       "    .dataframe tbody tr th {\n",
       "        vertical-align: top;\n",
       "    }\n",
       "\n",
       "    .dataframe thead th {\n",
       "        text-align: right;\n",
       "    }\n",
       "</style>\n",
       "<table border=\"1\" class=\"dataframe\">\n",
       "  <thead>\n",
       "    <tr style=\"text-align: right;\">\n",
       "      <th></th>\n",
       "      <th>cell_type</th>\n",
       "      <th>dataset_id</th>\n",
       "      <th>feature_id</th>\n",
       "      <th>assay</th>\n",
       "      <th>suspension_type</th>\n",
       "      <th>donor_id</th>\n",
       "      <th>disease</th>\n",
       "      <th>sex</th>\n",
       "      <th>nnz</th>\n",
       "      <th>n_obs</th>\n",
       "      <th>min</th>\n",
       "      <th>max</th>\n",
       "      <th>sum</th>\n",
       "      <th>mean</th>\n",
       "      <th>sem</th>\n",
       "      <th>var</th>\n",
       "      <th>sev</th>\n",
       "      <th>selv</th>\n",
       "    </tr>\n",
       "  </thead>\n",
       "  <tbody>\n",
       "    <tr>\n",
       "      <th>0</th>\n",
       "      <td>CD14-positive monocyte</td>\n",
       "      <td>1a2e3350-28a8-4f49-b33c-5b67ceb001f6</td>\n",
       "      <td>ENSG00000000419</td>\n",
       "      <td>10x 5' v1</td>\n",
       "      <td>cell</td>\n",
       "      <td>F51</td>\n",
       "      <td>normal</td>\n",
       "      <td>female</td>\n",
       "      <td>328.0</td>\n",
       "      <td>8763.0</td>\n",
       "      <td>1.0</td>\n",
       "      <td>3.0</td>\n",
       "      <td>360.0</td>\n",
       "      <td>0.028311</td>\n",
       "      <td>0.001594</td>\n",
       "      <td>0.0</td>\n",
       "      <td>0.0</td>\n",
       "      <td>0.0</td>\n",
       "    </tr>\n",
       "    <tr>\n",
       "      <th>1</th>\n",
       "      <td>CD14-positive monocyte</td>\n",
       "      <td>1a2e3350-28a8-4f49-b33c-5b67ceb001f6</td>\n",
       "      <td>ENSG00000000457</td>\n",
       "      <td>10x 5' v1</td>\n",
       "      <td>cell</td>\n",
       "      <td>F51</td>\n",
       "      <td>normal</td>\n",
       "      <td>female</td>\n",
       "      <td>89.0</td>\n",
       "      <td>8763.0</td>\n",
       "      <td>1.0</td>\n",
       "      <td>2.0</td>\n",
       "      <td>91.0</td>\n",
       "      <td>0.007215</td>\n",
       "      <td>0.000761</td>\n",
       "      <td>0.0</td>\n",
       "      <td>0.0</td>\n",
       "      <td>0.0</td>\n",
       "    </tr>\n",
       "  </tbody>\n",
       "</table>\n",
       "</div>"
      ],
      "text/plain": [
       "                cell_type                            dataset_id   \n",
       "0  CD14-positive monocyte  1a2e3350-28a8-4f49-b33c-5b67ceb001f6  \\\n",
       "1  CD14-positive monocyte  1a2e3350-28a8-4f49-b33c-5b67ceb001f6   \n",
       "\n",
       "        feature_id      assay suspension_type donor_id disease     sex    nnz   \n",
       "0  ENSG00000000419  10x 5' v1            cell      F51  normal  female  328.0  \\\n",
       "1  ENSG00000000457  10x 5' v1            cell      F51  normal  female   89.0   \n",
       "\n",
       "    n_obs  min  max    sum      mean       sem  var  sev  selv  \n",
       "0  8763.0  1.0  3.0  360.0  0.028311  0.001594  0.0  0.0   0.0  \n",
       "1  8763.0  1.0  2.0   91.0  0.007215  0.000761  0.0  0.0   0.0  "
      ]
     },
     "execution_count": 121,
     "metadata": {},
     "output_type": "execute_result"
    }
   ],
   "source": [
    "estimators.head(2)"
   ]
  },
  {
   "cell_type": "code",
   "execution_count": 122,
   "id": "0a9a7d4d-506a-41ef-b7ff-eab9b21f437d",
   "metadata": {},
   "outputs": [],
   "source": [
    "# Fake cell types\n",
    "estimators['cell_type'] = np.random.choice(['A', 'B'], size=estimators.shape[0])"
   ]
  },
  {
   "cell_type": "markdown",
   "id": "3c84c9c9-c36e-4577-9768-12d8d6aa3724",
   "metadata": {},
   "source": [
    "### Setup DE"
   ]
  },
  {
   "cell_type": "code",
   "execution_count": 123,
   "id": "69cf574b-f98b-4a83-9fb4-322d8a201ebf",
   "metadata": {},
   "outputs": [],
   "source": [
    "CUBE_TILEDB_DIMS_OBS = [\n",
    "    \"cell_type\",\n",
    "    \"dataset_id\",\n",
    "]\n",
    "\n",
    "CUBE_TILEDB_ATTRS_OBS = [\n",
    "    \"assay\",\n",
    "    \"suspension_type\",\n",
    "    \"donor_id\",\n",
    "    \"disease\",\n",
    "    \"sex\"\n",
    "]\n",
    "\n",
    "CUBE_LOGICAL_DIMS_OBS = CUBE_TILEDB_DIMS_OBS + CUBE_TILEDB_ATTRS_OBS\n",
    "\n",
    "DE_TREATMENT = 'cell_type'\n",
    "DE_COVARIATES = ['dataset_id', 'donor_id', 'assay']\n",
    "DE_VARIABLES = [DE_TREATMENT] + DE_COVARIATES"
   ]
  },
  {
   "cell_type": "code",
   "execution_count": 124,
   "id": "800e950e-2e13-490b-8cd9-ded8b240bc4e",
   "metadata": {},
   "outputs": [],
   "source": [
    "names = estimators[DE_TREATMENT].copy()\n",
    "for col in DE_COVARIATES:\n",
    "    names += '_' + estimators[col]\n",
    "estimators['group_name'] = names.tolist()"
   ]
  },
  {
   "cell_type": "code",
   "execution_count": 150,
   "id": "d04c5ec5-f73a-4997-ac55-0229cd0ab3bf",
   "metadata": {},
   "outputs": [],
   "source": [
    "features = estimators['feature_id'].drop_duplicates().tolist()\n",
    "groups = estimators.drop_duplicates(subset='group_name').set_index('group_name')"
   ]
  },
  {
   "cell_type": "code",
   "execution_count": 218,
   "id": "cf4afa3b-9f23-4a24-b25e-9f0ca7f303e7",
   "metadata": {},
   "outputs": [],
   "source": [
    "design = pd.get_dummies(groups[DE_VARIABLES], drop_first=True).astype(int)"
   ]
  },
  {
   "cell_type": "code",
   "execution_count": 219,
   "id": "35f1bf0b-3a23-484c-baf9-469a6162be71",
   "metadata": {},
   "outputs": [],
   "source": [
    "mean = estimators.pivot(index='group_name', columns='feature_id', values='mean').fillna(1e-3)\n",
    "se_mean = estimators.pivot(index='group_name', columns='feature_id', values='sem').fillna(1e-4)\n",
    "cell_counts = groups['n_obs'].sort_index().values"
   ]
  },
  {
   "cell_type": "markdown",
   "id": "cb705bc9-6c07-41d1-932a-4ffd40755162",
   "metadata": {},
   "source": [
    "### Peform DE for each gene"
   ]
  },
  {
   "cell_type": "code",
   "execution_count": 204,
   "id": "302dccbe-4956-414e-819b-0cc3016e8d54",
   "metadata": {},
   "outputs": [],
   "source": [
    "def de_wls(X, y, n, v):\n",
    "    \n",
    "    from sklearn.linear_model import LinearRegression\n",
    "    \n",
    "    # fit WLS using sample_weights\n",
    "    WLS = LinearRegression()\n",
    "    WLS.fit(X, y, sample_weight=n)\n",
    "\n",
    "    coef = WLS.coef_[0]\n",
    "\n",
    "    W = np.diag(1/v)\n",
    "    beta_var_hat = np.diag(np.linalg.pinv(X.T@W@X))\n",
    "    se = np.sqrt( beta_var_hat[0] )\n",
    "\n",
    "    z = coef/se\n",
    "    pv = stats.norm.sf(np.abs(z))*2\n",
    "    \n",
    "    return coef, z, pv"
   ]
  },
  {
   "cell_type": "code",
   "execution_count": 214,
   "id": "aae94db6-136c-4d15-9792-608458e87cf1",
   "metadata": {},
   "outputs": [
    {
     "name": "stdout",
     "output_type": "stream",
     "text": [
      "CPU times: user 1min 34s, sys: 3min 25s, total: 4min 59s\n",
      "Wall time: 25.2 s\n"
     ]
    }
   ],
   "source": [
    "%%time\n",
    "de_result = []\n",
    "for feature in features[:1000]: # Can be vectorized heavily, showing for 1K genes\n",
    "    \n",
    "    m = mean[feature].values\n",
    "    sem = se_mean[feature].values\n",
    "    \n",
    "    # Transform to log space (alternatively can resample in log space)\n",
    "    lm = np.log(m)\n",
    "    selm = (np.log(m+sem)-np.log(m-sem))/2\n",
    "    \n",
    "    coef, z, pv = de_wls(design.values, lm, cell_counts, selm**2)\n",
    "    de_result.append((feature, coef, z, pv))\n",
    "    \n",
    "de_result = pd.DataFrame(de_result, columns=['feature_id','coef', 'z', 'pval']).set_index('feature_id')"
   ]
  },
  {
   "cell_type": "markdown",
   "id": "f138b9c6-5f2b-4b39-bef9-eb2acfe83bec",
   "metadata": {},
   "source": [
    "### Save DE result"
   ]
  },
  {
   "cell_type": "code",
   "execution_count": null,
   "id": "fab0df5c-8cac-4f0e-ac3d-bfac4340daa5",
   "metadata": {},
   "outputs": [],
   "source": [
    "de_result.to_csv('de_result.csv')"
   ]
  }
 ],
 "metadata": {
  "kernelspec": {
   "display_name": "Python 3 (ipykernel)",
   "language": "python",
   "name": "python3"
  },
  "language_info": {
   "codemirror_mode": {
    "name": "ipython",
    "version": 3
   },
   "file_extension": ".py",
   "mimetype": "text/x-python",
   "name": "python",
   "nbconvert_exporter": "python",
   "pygments_lexer": "ipython3",
   "version": "3.10.10"
  }
 },
 "nbformat": 4,
 "nbformat_minor": 5
}
